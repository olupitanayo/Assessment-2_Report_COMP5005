{
 "cells": [
  {
   "cell_type": "code",
   "execution_count": 22,
   "id": "31b0a495-d795-4562-813d-e272d635ea52",
   "metadata": {},
   "outputs": [
    {
     "name": "stdout",
     "output_type": "stream",
     "text": [
      "AES key generated: c678f4912e8bbcf16611f0858f87b1312cab108bf5a844c825191ba7c574ac65\n",
      "Initialization Vector (IV): f6151fddcac4054eef2f3baa54223847\n",
      "Encrypted sensitive data at rest: d98bcb2bb47436a8c7a569d34ca4475db5363d1415458d5bc01bf11d8de26216acc6da2624abd1e9436a13fad6b1e2eb9af5a80fdc31e5897e0e69bd158ce0cb757e5354fcc331131c5b72b3d88f466b445920b837ef70416e9edc8f05823d91449af45db9d677c115ec02afbab4fecd7bd457016848458efbd3fc357a29e503becbf66971d760163e9a367c3d61511216335493663f7a1be04e71a337900b7c9158001dcd9d0c24c3aaceddac20857ed4abe9b59e8d5f87a247f84064d7a357\n",
      "Decrypted sensitive data at rest: {\"temperature\": \"36.6\\u00b0C\", \"heart_rate\": \"72 bpm\", \"blood_pressure\": \"120/80 mmHg\", \"medical_reminder\": \"Diabetes medication at 8 AM and 8 PM\", \"activity\": \"Walked 3000 steps today\"}\n"
     ]
    }
   ],
   "source": [
    "import json\n",
    "from Crypto.Cipher import AES\n",
    "from Crypto.Random import get_random_bytes\n",
    "from Crypto.Util.Padding import pad, unpad\n",
    "\n",
    "# Simulated health data for the Elderly person\n",
    "Sensitive_data = {\n",
    "    \"temperature\": \"36.6°C\",\n",
    "    \"heart_rate\": \"72 bpm\",\n",
    "    \"blood_pressure\": \"120/80 mmHg\",\n",
    "    \"medical_reminder\": \"Diabetes medication at 8 AM and 8 PM\",\n",
    "    \"activity\": \"Walked 3000 steps today\"\n",
    "}\n",
    "# This is to generate a random key for AES. 32 bytes was used for stronger security against brute-force attack\n",
    "key = get_random_bytes(32)\n",
    "\n",
    "# This code depicts the encryption process, where the sensitive data is serialized into a JSON string, encoded into bytes, \n",
    "#and then encrypted using AES with Cipher Block Chaining (CBC) mode\n",
    "\n",
    "def aes_encrypt(data, key):\n",
    "    \n",
    "# This code converts a dictionary into a JSON string using json.dumps(data).Then it encodes this string into bytes using UTF-8 encoding\n",
    "#with data_str.encode('utf-8') in preparation for encryption to convert to bytes format\n",
    "    \n",
    "    data_str = json.dumps(data)\n",
    "    encoded_data = data_str.encode('utf-8')\n",
    "    cipher = AES.new(key, AES.MODE_CBC)\n",
    "    ct_bytes = cipher.encrypt(pad(encoded_data, AES.block_size))\n",
    "    iv = cipher.iv\n",
    "    return iv, ct_bytes\n",
    "    \n",
    "# The sensitive data is encrypted using an initialization vector (IV) and key\n",
    "iv, encrypted_data = aes_encrypt(Sensitive_data, key)\n",
    "  \n",
    "# This code depicts the decryption process for the sensitive data \n",
    "def aes_decrypt(iv, ct, key):\n",
    "    cipher = AES.new(key, AES.MODE_CBC, iv)\n",
    "    pt = unpad(cipher.decrypt(ct), AES.block_size)\n",
    "    return pt.decode('utf-8')\n",
    "\n",
    "# Senstive data encrypted will be Decrypted using the same IV and key\n",
    "decrypted_data = aes_decrypt(iv, encrypted_data, key)\n",
    "\n",
    "#Output for the key, encryption and decryption of sensitive data \n",
    "print(\"AES key generated:\", key.hex())\n",
    "print(\"Initialization Vector (IV):\", iv.hex())\n",
    "print(\"Encrypted sensitive data at rest:\", encrypted_data.hex())\n",
    "print(\"Decrypted sensitive data at rest:\", decrypted_data)"
   ]
  },
  {
   "cell_type": "code",
   "execution_count": null,
   "id": "c89d36c3-dbd2-49eb-ba71-9515b3dfc8f1",
   "metadata": {},
   "outputs": [],
   "source": []
  }
 ],
 "metadata": {
  "kernelspec": {
   "display_name": "Python 3 (ipykernel)",
   "language": "python",
   "name": "python3"
  },
  "language_info": {
   "codemirror_mode": {
    "name": "ipython",
    "version": 3
   },
   "file_extension": ".py",
   "mimetype": "text/x-python",
   "name": "python",
   "nbconvert_exporter": "python",
   "pygments_lexer": "ipython3",
   "version": "3.9.18"
  }
 },
 "nbformat": 4,
 "nbformat_minor": 5
}
